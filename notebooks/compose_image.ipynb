{
 "cells": [
  {
   "cell_type": "code",
   "execution_count": 66,
   "metadata": {},
   "outputs": [],
   "source": [
    "import os\n",
    "import sys\n",
    "\n",
    "sys.path.append(os.path.abspath(os.path.join('../utils')))\n"
   ]
  },
  {
   "cell_type": "code",
   "execution_count": 67,
   "metadata": {},
   "outputs": [],
   "source": [
    "from image_generator import ImageGenerater\n",
    "from image_composer import ImageComposer\n"
   ]
  },
  {
   "cell_type": "code",
   "execution_count": 68,
   "metadata": {},
   "outputs": [
    {
     "data": {
      "text/plain": [
       "\"images = {\\n          'Interactive Elements':'../8968a702d64524827de2ccf55c802d6c/landing_1.jpg', \\n          'thumbnail':'../8968a702d64524827de2ccf55c802d6c/thumbnail.jpg', \\n          'engagement_instruction':'../8968a702d64524827de2ccf55c802d6c/engagement_instruction.png',\\n          'Product Image':'../8968a702d64524827de2ccf55c802d6c/advertised_item.png', \\n          'Animation':'../8968a702d64524827de2ccf55c802d6c/engagement_animation.png', \\n          'background_index':'../8968a702d64524827de2ccf55c802d6c/landing_2.jpg',\\n        }  # Replace with actual image file paths\\n\""
      ]
     },
     "execution_count": 68,
     "metadata": {},
     "output_type": "execute_result"
    }
   ],
   "source": [
    "'''images = {\n",
    "          'Interactive Elements':'../8968a702d64524827de2ccf55c802d6c/landing_1.jpg', \n",
    "          'thumbnail':'../8968a702d64524827de2ccf55c802d6c/thumbnail.jpg', \n",
    "          'engagement_instruction':'../8968a702d64524827de2ccf55c802d6c/engagement_instruction.png',\n",
    "          'Product Image':'../8968a702d64524827de2ccf55c802d6c/advertised_item.png', \n",
    "          'Animation':'../8968a702d64524827de2ccf55c802d6c/engagement_animation.png', \n",
    "          'background_index':'../8968a702d64524827de2ccf55c802d6c/landing_2.jpg',\n",
    "        }  # Replace with actual image file paths\n",
    "'''"
   ]
  },
  {
   "cell_type": "code",
   "execution_count": 69,
   "metadata": {},
   "outputs": [],
   "source": [
    "ic = ImageComposer(320, 500, [[('background_index','../8968a702d64524827de2ccf55c802d6c/landing_1.jpg'),\n",
    "                               ('CTA Button','../8968a702d64524827de2ccf55c802d6c/engagement_instruction.png'), \n",
    "                                ('Icon','../8968a702d64524827de2ccf55c802d6c/engagement_animation.png'),\n",
    "                                ('Product Image','../8968a702d64524827de2ccf55c802d6c/advertised_item.png'),\n",
    "                                ('Text Elements','../8968a702d64524827de2ccf55c802d6c/fr-2-copy-ny.png'), \n",
    "                                #('background_index','../8968a702d64524827de2ccf55c802d6c/landing_2.jpg'),\n",
    "]])\n"
   ]
  },
  {
   "cell_type": "code",
   "execution_count": 70,
   "metadata": {},
   "outputs": [],
   "source": [
    "possibilties = ImageComposer.compute_positions([\"Logo\", \"CTA Button\", \"Icon\", \"Product Image\", \"Text Elements\"])"
   ]
  },
  {
   "cell_type": "code",
   "execution_count": 71,
   "metadata": {},
   "outputs": [
    {
     "name": "stdout",
     "output_type": "stream",
     "text": [
      "[(1, 1), (1, 2), (2, 1), (2, 1), (3, 1)]\n"
     ]
    }
   ],
   "source": [
    "diverse = ImageComposer.select_diverse_positions(possibilties)\n",
    "print(diverse)"
   ]
  },
  {
   "cell_type": "code",
   "execution_count": 72,
   "metadata": {},
   "outputs": [
    {
     "name": "stdout",
     "output_type": "stream",
     "text": [
      "[{'start_point': (10, 10.0), 'dimensions': (44.0, 80.0)}, {'start_point': (74.0, 10), 'dimensions': (172.0, 80.0)}, {'start_point': (10, 110.0), 'dimensions': (44.0, 140.0)}, {'start_point': (10, 250.0), 'dimensions': (44.0, 140.0)}, {'start_point': (10, 410.0), 'dimensions': (44.0, 80.0)}]\n"
     ]
    }
   ],
   "source": [
    "print(ic.calculate_adjusted_element_positions(diverse))"
   ]
  },
  {
   "cell_type": "code",
   "execution_count": 73,
   "metadata": {},
   "outputs": [],
   "source": [
    "#generated_frames = ic.generate_frames()"
   ]
  },
  {
   "cell_type": "code",
   "execution_count": null,
   "metadata": {},
   "outputs": [],
   "source": []
  }
 ],
 "metadata": {
  "kernelspec": {
   "display_name": ".venv",
   "language": "python",
   "name": "python3"
  },
  "language_info": {
   "codemirror_mode": {
    "name": "ipython",
    "version": 3
   },
   "file_extension": ".py",
   "mimetype": "text/x-python",
   "name": "python",
   "nbconvert_exporter": "python",
   "pygments_lexer": "ipython3",
   "version": "3.12.3"
  }
 },
 "nbformat": 4,
 "nbformat_minor": 2
}
