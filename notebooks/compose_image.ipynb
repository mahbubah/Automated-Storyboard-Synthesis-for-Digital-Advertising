{
 "cells": [
  {
   "cell_type": "code",
   "execution_count": 11,
   "metadata": {},
   "outputs": [],
   "source": [
    "import os\n",
    "import sys\n",
    "\n",
    "sys.path.append(os.path.abspath(os.path.join('../utils')))\n"
   ]
  },
  {
   "cell_type": "code",
   "execution_count": 12,
   "metadata": {},
   "outputs": [],
   "source": [
    "from image_generator import ImageGenerater\n",
    "from image_composer import ImageComposer\n"
   ]
  },
  {
   "cell_type": "code",
   "execution_count": 13,
   "metadata": {},
   "outputs": [],
   "source": [
    "concept = {\n",
    "    \"frame_1\": {\n",
    "                \"description\": \"The ad begins with a suspenseful animation of a LEGO CITY set, with the tagline 'YOUR CITY, NO LIMITS' and a countdown timer.\",\n",
    "                \"interaction_type\": \"Tap\",\n",
    "                \"next_frame\": \"frame_2\",\n",
    "                \"duration\": \"5 seconds\"\n",
    "            },\n",
    "    \"frame_2\": {\n",
    "                \"description\": \"The scene transitions to a series of quick, exciting clips showcasing various challenges in the 'ULTIMATE ESCAPE CHALLENGE'.\",\n",
    "                \"interaction_type\": \"Swipe\",\n",
    "                \"next_frame\": \"frame_3\",\n",
    "                \"duration\": \"10 seconds\"\n",
    "            },\n",
    "    \"frame_3\": {\n",
    "                \"description\": \"The final frame reveals the LEGO CITY 2024 logo and a 'Play Now' button, inviting users to join the challenge on the LEGO website.\",\n",
    "                \"interaction_type\": \"Tap\",\n",
    "                \"next_frame\": \"end-of-advertisement\",\n",
    "                \"duration\": \"5 seconds\"\n",
    "            },\n",
    "}\n"
   ]
  },
  {
   "cell_type": "code",
   "execution_count": 14,
   "metadata": {},
   "outputs": [
    {
     "name": "stderr",
     "output_type": "stream",
     "text": [
      "INFO:httpx:HTTP Request: POST https://api.replicate.com/v1/predictions \"HTTP/1.1 401 Unauthorized\"\n",
      "ERROR:root:Failed to generate image: ReplicateError Details:\n",
      "title: Unauthenticated\n",
      "status: 401\n",
      "detail: You did not pass a valid authentication token\n"
     ]
    },
    {
     "ename": "TypeError",
     "evalue": "'NoneType' object is not subscriptable",
     "output_type": "error",
     "traceback": [
      "\u001b[0;31m---------------------------------------------------------------------------\u001b[0m",
      "\u001b[0;31mTypeError\u001b[0m                                 Traceback (most recent call last)",
      "Cell \u001b[0;32mIn[14], line 2\u001b[0m\n\u001b[1;32m      1\u001b[0m ig \u001b[38;5;241m=\u001b[39m ImageGenerater(concept)\n\u001b[0;32m----> 2\u001b[0m generated_images \u001b[38;5;241m=\u001b[39m \u001b[43mig\u001b[49m\u001b[38;5;241;43m.\u001b[39;49m\u001b[43mgenerate_images\u001b[49m\u001b[43m(\u001b[49m\u001b[43m)\u001b[49m\n",
      "File \u001b[0;32m~/Desktop/week-12/Automated-Storyboard-Synthesis-for-Digital-Advertising/utils/image_generator.py:26\u001b[0m, in \u001b[0;36mImageGenerater.generate_images\u001b[0;34m(self, store_location)\u001b[0m\n\u001b[1;32m     24\u001b[0m         generated_images[frame] \u001b[38;5;241m=\u001b[39m []\n\u001b[1;32m     25\u001b[0m         \u001b[38;5;28;01mfor\u001b[39;00m \u001b[38;5;28mtype\u001b[39m, description \u001b[38;5;129;01min\u001b[39;00m elements\u001b[38;5;241m.\u001b[39mitems():\n\u001b[0;32m---> 26\u001b[0m             downloaded_image \u001b[38;5;241m=\u001b[39m ImageGenerater\u001b[38;5;241m.\u001b[39mdownload_image(\u001b[43mImageGenerater\u001b[49m\u001b[38;5;241;43m.\u001b[39;49m\u001b[43mgenerate_image\u001b[49m\u001b[43m(\u001b[49m\u001b[43mprompt\u001b[49m\u001b[38;5;241;43m=\u001b[39;49m\u001b[43mdescription\u001b[49m\u001b[43m)\u001b[49m\u001b[43m[\u001b[49m\u001b[38;5;241;43m0\u001b[39;49m\u001b[43m]\u001b[49m, store_location)\n\u001b[1;32m     27\u001b[0m             generated_images[frame]\u001b[38;5;241m.\u001b[39mappend((\u001b[38;5;28mtype\u001b[39m, \u001b[38;5;241m*\u001b[39mdownloaded_image))\n\u001b[1;32m     29\u001b[0m \u001b[38;5;28;01mreturn\u001b[39;00m generated_images\n",
      "\u001b[0;31mTypeError\u001b[0m: 'NoneType' object is not subscriptable"
     ]
    }
   ],
   "source": [
    "ig = ImageGenerater(concept)\n",
    "generated_images = ig.generate_images()"
   ]
  },
  {
   "cell_type": "code",
   "execution_count": 20,
   "metadata": {},
   "outputs": [],
   "source": [
    "images = {\n",
    "          'Interactive Elements':'../8968a702d64524827de2ccf55c802d6c/landing_1.jpg', \n",
    "          'thumbnail':'../8968a702d64524827de2ccf55c802d6c/thumbnail.jpg', \n",
    "          'engagement_instruction':'../8968a702d64524827de2ccf55c802d6c/engagement_instruction.png',\n",
    "          'Product Image':'../8968a702d64524827de2ccf55c802d6c/advertised_item.png', \n",
    "          'Animation':'../8968a702d64524827de2ccf55c802d6c/engagement_animation.png', \n",
    "          'background_index':'../8968a702d64524827de2ccf55c802d6c/landing_2.jpg',\n",
    "        }  # Replace with actual image file paths\n"
   ]
  },
  {
   "cell_type": "code",
   "execution_count": 21,
   "metadata": {},
   "outputs": [
    {
     "ename": "UnboundLocalError",
     "evalue": "cannot access local variable 'background_index' where it is not associated with a value",
     "output_type": "error",
     "traceback": [
      "\u001b[0;31m---------------------------------------------------------------------------\u001b[0m",
      "\u001b[0;31mUnboundLocalError\u001b[0m                         Traceback (most recent call last)",
      "Cell \u001b[0;32mIn[21], line 2\u001b[0m\n\u001b[1;32m      1\u001b[0m ic \u001b[38;5;241m=\u001b[39m ImageComposer(\u001b[38;5;241m600\u001b[39m,\u001b[38;5;241m600\u001b[39m, \u001b[38;5;28mlist\u001b[39m(images\u001b[38;5;241m.\u001b[39mvalues()))\n\u001b[0;32m----> 2\u001b[0m generated_frames \u001b[38;5;241m=\u001b[39m \u001b[43mic\u001b[49m\u001b[38;5;241;43m.\u001b[39;49m\u001b[43mgenerate_frames\u001b[49m\u001b[43m(\u001b[49m\u001b[43m)\u001b[49m\n",
      "File \u001b[0;32m~/Desktop/week-12/Automated-Storyboard-Synthesis-for-Digital-Advertising/utils/image_composer.py:41\u001b[0m, in \u001b[0;36mImageComposer.generate_frames\u001b[0;34m(self)\u001b[0m\n\u001b[1;32m     40\u001b[0m \u001b[38;5;28;01mdef\u001b[39;00m \u001b[38;5;21mgenerate_frames\u001b[39m(\u001b[38;5;28mself\u001b[39m):\n\u001b[0;32m---> 41\u001b[0m     \u001b[38;5;28;43mself\u001b[39;49m\u001b[38;5;241;43m.\u001b[39;49m\u001b[43mcompose_frames\u001b[49m\u001b[43m(\u001b[49m\u001b[43m)\u001b[49m\n\u001b[1;32m     42\u001b[0m     \u001b[38;5;28;01mreturn\u001b[39;00m \u001b[38;5;28mself\u001b[39m\u001b[38;5;241m.\u001b[39mgenerated_frames\n",
      "File \u001b[0;32m~/Desktop/week-12/Automated-Storyboard-Synthesis-for-Digital-Advertising/utils/image_composer.py:56\u001b[0m, in \u001b[0;36mImageComposer.compose_frames\u001b[0;34m(self)\u001b[0m\n\u001b[1;32m     53\u001b[0m         \u001b[38;5;28;01mcontinue\u001b[39;00m\n\u001b[1;32m     54\u001b[0m     placement_items\u001b[38;5;241m.\u001b[39mappend(item)\n\u001b[0;32m---> 56\u001b[0m background \u001b[38;5;241m=\u001b[39m frame[\u001b[43mbackground_index\u001b[49m]\n\u001b[1;32m     58\u001b[0m possibilties \u001b[38;5;241m=\u001b[39m ImageComposer\u001b[38;5;241m.\u001b[39mcompute_positions([item[\u001b[38;5;241m0\u001b[39m] \u001b[38;5;28;01mfor\u001b[39;00m item \u001b[38;5;129;01min\u001b[39;00m placement_items])\n\u001b[1;32m     59\u001b[0m identified_locations \u001b[38;5;241m=\u001b[39m ImageComposer\u001b[38;5;241m.\u001b[39mselect_diverse_positions(possibilties)\n",
      "\u001b[0;31mUnboundLocalError\u001b[0m: cannot access local variable 'background_index' where it is not associated with a value"
     ]
    }
   ],
   "source": [
    "ic = ImageComposer(600,600, list(images.values()))\n",
    "generated_frames = ic.generate_frames()"
   ]
  },
  {
   "cell_type": "code",
   "execution_count": 43,
   "metadata": {},
   "outputs": [],
   "source": [
    "ic = ImageComposer(320, 500, [[('Interactive Elements','../8968a702d64524827de2ccf55c802d6c/landing_1.jpg'),\n",
    "                               ('CTA Button','../8968a702d64524827de2ccf55c802d6c/engagement_instruction.png'), \n",
    "                                ('Icon','../8968a702d64524827de2ccf55c802d6c/engagement_animation.png'),\n",
    "                                ('Product Image','../8968a702d64524827de2ccf55c802d6c/advertised_item.png'),\n",
    "                                ('Text Elements','../8968a702d64524827de2ccf55c802d6c/fr-2-copy-ny.png'), \n",
    "                                ('background_index','../8968a702d64524827de2ccf55c802d6c/landing_2.jpg'),\n",
    "]])"
   ]
  },
  {
   "cell_type": "code",
   "execution_count": 44,
   "metadata": {},
   "outputs": [],
   "source": [
    "possibilties = ImageComposer.compute_positions([\"Logo\", \"CTA Button\", \"Icon\", \"Product Image\", \"Text Elements\"])"
   ]
  },
  {
   "cell_type": "code",
   "execution_count": 45,
   "metadata": {},
   "outputs": [
    {
     "name": "stdout",
     "output_type": "stream",
     "text": [
      "[(1, 1), (2, 1), (3, 1), (2, 1), (1, 1)]\n"
     ]
    }
   ],
   "source": [
    "diverse = ImageComposer.select_diverse_positions(possibilties)\n",
    "print(diverse)\n",
    "    "
   ]
  },
  {
   "cell_type": "code",
   "execution_count": 46,
   "metadata": {},
   "outputs": [
    {
     "name": "stdout",
     "output_type": "stream",
     "text": [
      "[{'start_point': (10, 10.0), 'dimensions': (44.0, 40.0)}, {'start_point': (10, 50.0), 'dimensions': (44.0, 40.0)}, {'start_point': (10, 110.0), 'dimensions': (44.0, 140.0)}, {'start_point': (10, 250.0), 'dimensions': (44.0, 140.0)}, {'start_point': (10, 410.0), 'dimensions': (44.0, 80.0)}]\n"
     ]
    }
   ],
   "source": [
    "print(ic.calculate_adjusted_element_positions(diverse))"
   ]
  },
  {
   "cell_type": "code",
   "execution_count": 47,
   "metadata": {},
   "outputs": [
    {
     "ename": "UnboundLocalError",
     "evalue": "cannot access local variable 'background_index' where it is not associated with a value",
     "output_type": "error",
     "traceback": [
      "\u001b[0;31m---------------------------------------------------------------------------\u001b[0m",
      "\u001b[0;31mUnboundLocalError\u001b[0m                         Traceback (most recent call last)",
      "Cell \u001b[0;32mIn[47], line 1\u001b[0m\n\u001b[0;32m----> 1\u001b[0m generated_frames \u001b[38;5;241m=\u001b[39m \u001b[43mic\u001b[49m\u001b[38;5;241;43m.\u001b[39;49m\u001b[43mgenerate_frames\u001b[49m\u001b[43m(\u001b[49m\u001b[43m)\u001b[49m\n",
      "File \u001b[0;32m~/Desktop/week-12/Automated-Storyboard-Synthesis-for-Digital-Advertising/utils/image_composer.py:41\u001b[0m, in \u001b[0;36mImageComposer.generate_frames\u001b[0;34m(self)\u001b[0m\n\u001b[1;32m     40\u001b[0m \u001b[38;5;28;01mdef\u001b[39;00m \u001b[38;5;21mgenerate_frames\u001b[39m(\u001b[38;5;28mself\u001b[39m):\n\u001b[0;32m---> 41\u001b[0m     \u001b[38;5;28;43mself\u001b[39;49m\u001b[38;5;241;43m.\u001b[39;49m\u001b[43mcompose_frames\u001b[49m\u001b[43m(\u001b[49m\u001b[43m)\u001b[49m\n\u001b[1;32m     42\u001b[0m     \u001b[38;5;28;01mreturn\u001b[39;00m \u001b[38;5;28mself\u001b[39m\u001b[38;5;241m.\u001b[39mgenerated_frames\n",
      "File \u001b[0;32m~/Desktop/week-12/Automated-Storyboard-Synthesis-for-Digital-Advertising/utils/image_composer.py:56\u001b[0m, in \u001b[0;36mImageComposer.compose_frames\u001b[0;34m(self)\u001b[0m\n\u001b[1;32m     53\u001b[0m         \u001b[38;5;28;01mcontinue\u001b[39;00m\n\u001b[1;32m     54\u001b[0m     placement_items\u001b[38;5;241m.\u001b[39mappend(item)\n\u001b[0;32m---> 56\u001b[0m background \u001b[38;5;241m=\u001b[39m frame[\u001b[43mbackground_index\u001b[49m]\n\u001b[1;32m     58\u001b[0m possibilties \u001b[38;5;241m=\u001b[39m ImageComposer\u001b[38;5;241m.\u001b[39mcompute_positions([item[\u001b[38;5;241m0\u001b[39m] \u001b[38;5;28;01mfor\u001b[39;00m item \u001b[38;5;129;01min\u001b[39;00m placement_items])\n\u001b[1;32m     59\u001b[0m identified_locations \u001b[38;5;241m=\u001b[39m ImageComposer\u001b[38;5;241m.\u001b[39mselect_diverse_positions(possibilties)\n",
      "\u001b[0;31mUnboundLocalError\u001b[0m: cannot access local variable 'background_index' where it is not associated with a value"
     ]
    }
   ],
   "source": [
    "generated_frames = ic.generate_frames()"
   ]
  }
 ],
 "metadata": {
  "kernelspec": {
   "display_name": ".venv",
   "language": "python",
   "name": "python3"
  },
  "language_info": {
   "codemirror_mode": {
    "name": "ipython",
    "version": 3
   },
   "file_extension": ".py",
   "mimetype": "text/x-python",
   "name": "python",
   "nbconvert_exporter": "python",
   "pygments_lexer": "ipython3",
   "version": "3.12.3"
  }
 },
 "nbformat": 4,
 "nbformat_minor": 2
}
