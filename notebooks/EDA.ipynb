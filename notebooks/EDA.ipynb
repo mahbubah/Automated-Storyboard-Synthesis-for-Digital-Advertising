{
 "cells": [
  {
   "cell_type": "code",
   "execution_count": 2,
   "metadata": {},
   "outputs": [],
   "source": [
    "import pandas as pd\n",
    "import numpy as np\n",
    "import matplotlib.pyplot as plt"
   ]
  },
  {
   "cell_type": "code",
   "execution_count": 3,
   "metadata": {},
   "outputs": [],
   "source": [
    "import sys\n",
    "# Add the current directory to the system path\n",
    "current = sys.path.append('.')"
   ]
  },
  {
   "cell_type": "code",
   "execution_count": 4,
   "metadata": {},
   "outputs": [],
   "source": [
    "data_path = '/home/mahbubah_abdulhakim/'"
   ]
  },
  {
   "cell_type": "code",
   "execution_count": 5,
   "metadata": {},
   "outputs": [],
   "source": [
    "performance_file = pd.read_csv(data_path+'Challenge_Data/performance_data.csv')"
   ]
  },
  {
   "cell_type": "code",
   "execution_count": 6,
   "metadata": {},
   "outputs": [
    {
     "data": {
      "text/html": [
       "<div>\n",
       "<style scoped>\n",
       "    .dataframe tbody tr th:only-of-type {\n",
       "        vertical-align: middle;\n",
       "    }\n",
       "\n",
       "    .dataframe tbody tr th {\n",
       "        vertical-align: top;\n",
       "    }\n",
       "\n",
       "    .dataframe thead th {\n",
       "        text-align: right;\n",
       "    }\n",
       "</style>\n",
       "<table border=\"1\" class=\"dataframe\">\n",
       "  <thead>\n",
       "    <tr style=\"text-align: right;\">\n",
       "      <th></th>\n",
       "      <th>game_id</th>\n",
       "      <th>preview_link</th>\n",
       "      <th>ER</th>\n",
       "      <th>CTR</th>\n",
       "    </tr>\n",
       "  </thead>\n",
       "  <tbody>\n",
       "    <tr>\n",
       "      <th>0</th>\n",
       "      <td>bfbf7a2b7ac635e67877b1ab87fd6629</td>\n",
       "      <td>https://s3.us-east-1.amazonaws.com/a.futureadl...</td>\n",
       "      <td>0.209269</td>\n",
       "      <td>0.058438</td>\n",
       "    </tr>\n",
       "    <tr>\n",
       "      <th>1</th>\n",
       "      <td>945010afbf9a55bbdffcb0895f946155</td>\n",
       "      <td>https://s3.us-east-1.amazonaws.com/a.futureadl...</td>\n",
       "      <td>0.274552</td>\n",
       "      <td>0.074731</td>\n",
       "    </tr>\n",
       "    <tr>\n",
       "      <th>2</th>\n",
       "      <td>e68e20f592457b875ce29757ab855dfe</td>\n",
       "      <td>https://s3.us-east-1.amazonaws.com/a.futureadl...</td>\n",
       "      <td>0.103688</td>\n",
       "      <td>0.042228</td>\n",
       "    </tr>\n",
       "    <tr>\n",
       "      <th>3</th>\n",
       "      <td>adunit-nestle-purina-friskies-mob</td>\n",
       "      <td>https://s3.ap-southeast-1.amazonaws.com/a.futu...</td>\n",
       "      <td>0.136963</td>\n",
       "      <td>0.005393</td>\n",
       "    </tr>\n",
       "    <tr>\n",
       "      <th>4</th>\n",
       "      <td>adunit-lionsgate-uwomt-user-slider-sensory-vid...</td>\n",
       "      <td>https://s3.us-west-1.amazonaws.com/a.futureadl...</td>\n",
       "      <td>0.114208</td>\n",
       "      <td>0.016443</td>\n",
       "    </tr>\n",
       "  </tbody>\n",
       "</table>\n",
       "</div>"
      ],
      "text/plain": [
       "                                             game_id  \\\n",
       "0                   bfbf7a2b7ac635e67877b1ab87fd6629   \n",
       "1                   945010afbf9a55bbdffcb0895f946155   \n",
       "2                   e68e20f592457b875ce29757ab855dfe   \n",
       "3                  adunit-nestle-purina-friskies-mob   \n",
       "4  adunit-lionsgate-uwomt-user-slider-sensory-vid...   \n",
       "\n",
       "                                        preview_link        ER       CTR  \n",
       "0  https://s3.us-east-1.amazonaws.com/a.futureadl...  0.209269  0.058438  \n",
       "1  https://s3.us-east-1.amazonaws.com/a.futureadl...  0.274552  0.074731  \n",
       "2  https://s3.us-east-1.amazonaws.com/a.futureadl...  0.103688  0.042228  \n",
       "3  https://s3.ap-southeast-1.amazonaws.com/a.futu...  0.136963  0.005393  \n",
       "4  https://s3.us-west-1.amazonaws.com/a.futureadl...  0.114208  0.016443  "
      ]
     },
     "execution_count": 6,
     "metadata": {},
     "output_type": "execute_result"
    }
   ],
   "source": [
    "performance_file.head()"
   ]
  },
  {
   "cell_type": "markdown",
   "metadata": {},
   "source": [
    "Click-Through Rate (CTR) measures the percentage of people who see your ad and then click on it. It's calculated by dividing the number of clicks your ad receives by the number of times it's shown (impressions). CTR = (Clicks / Impressions) * 100%\n",
    "\n",
    "Engagement Rate (ER) represents the projected average revenue earned from each user who installs your app through your ad campaign.Calculating ER can vary depending on the platform and available data. It often involves factors like in-app purchase data, subscription rates, and ad revenue models."
   ]
  },
  {
   "cell_type": "code",
   "execution_count": 7,
   "metadata": {},
   "outputs": [
    {
     "data": {
      "text/html": [
       "<div>\n",
       "<style scoped>\n",
       "    .dataframe tbody tr th:only-of-type {\n",
       "        vertical-align: middle;\n",
       "    }\n",
       "\n",
       "    .dataframe tbody tr th {\n",
       "        vertical-align: top;\n",
       "    }\n",
       "\n",
       "    .dataframe thead th {\n",
       "        text-align: right;\n",
       "    }\n",
       "</style>\n",
       "<table border=\"1\" class=\"dataframe\">\n",
       "  <thead>\n",
       "    <tr style=\"text-align: right;\">\n",
       "      <th></th>\n",
       "      <th>ER</th>\n",
       "      <th>CTR</th>\n",
       "    </tr>\n",
       "  </thead>\n",
       "  <tbody>\n",
       "    <tr>\n",
       "      <th>count</th>\n",
       "      <td>905.000000</td>\n",
       "      <td>905.000000</td>\n",
       "    </tr>\n",
       "    <tr>\n",
       "      <th>mean</th>\n",
       "      <td>0.136318</td>\n",
       "      <td>0.034466</td>\n",
       "    </tr>\n",
       "    <tr>\n",
       "      <th>std</th>\n",
       "      <td>0.091524</td>\n",
       "      <td>0.036967</td>\n",
       "    </tr>\n",
       "    <tr>\n",
       "      <th>min</th>\n",
       "      <td>0.000000</td>\n",
       "      <td>0.000000</td>\n",
       "    </tr>\n",
       "    <tr>\n",
       "      <th>25%</th>\n",
       "      <td>0.070338</td>\n",
       "      <td>0.007926</td>\n",
       "    </tr>\n",
       "    <tr>\n",
       "      <th>50%</th>\n",
       "      <td>0.118624</td>\n",
       "      <td>0.024537</td>\n",
       "    </tr>\n",
       "    <tr>\n",
       "      <th>75%</th>\n",
       "      <td>0.190722</td>\n",
       "      <td>0.047796</td>\n",
       "    </tr>\n",
       "    <tr>\n",
       "      <th>max</th>\n",
       "      <td>0.524498</td>\n",
       "      <td>0.297410</td>\n",
       "    </tr>\n",
       "  </tbody>\n",
       "</table>\n",
       "</div>"
      ],
      "text/plain": [
       "               ER         CTR\n",
       "count  905.000000  905.000000\n",
       "mean     0.136318    0.034466\n",
       "std      0.091524    0.036967\n",
       "min      0.000000    0.000000\n",
       "25%      0.070338    0.007926\n",
       "50%      0.118624    0.024537\n",
       "75%      0.190722    0.047796\n",
       "max      0.524498    0.297410"
      ]
     },
     "execution_count": 7,
     "metadata": {},
     "output_type": "execute_result"
    }
   ],
   "source": [
    "performance_file.describe()"
   ]
  },
  {
   "cell_type": "markdown",
   "metadata": {},
   "source": [
    "A higher ER suggests a more targeted and profitable ad campaign, attracting users likely to generate income for your app. A lower ER might indicate poor targeting, attracting users who don't convert into paying customers."
   ]
  },
  {
   "cell_type": "code",
   "execution_count": 8,
   "metadata": {},
   "outputs": [
    {
     "name": "stdout",
     "output_type": "stream",
     "text": [
      "The maximum Engagement Rate is 0.5244978411864089\n",
      "The minimum Engagement Rate is 0.0\n"
     ]
    }
   ],
   "source": [
    "print(f\"The maximum Engagement Rate is {performance_file['ER'].max()}\")\n",
    "print(f\"The minimum Engagement Rate is {performance_file['ER'].min()}\")"
   ]
  },
  {
   "cell_type": "markdown",
   "metadata": {},
   "source": [
    "A higher CTR indicates a more engaging and relevant ad that effectively captures user attention and prompts them to take further action. A low CTR signifies an ad that might be poorly targeted, irrelevant, or visually unappealing."
   ]
  },
  {
   "cell_type": "code",
   "execution_count": 9,
   "metadata": {},
   "outputs": [
    {
     "name": "stdout",
     "output_type": "stream",
     "text": [
      "The maximum Click Through Rate is 0.2974101921470342\n",
      "The minimum Click Through Rate is 0.0\n"
     ]
    }
   ],
   "source": [
    "print(f\"The maximum Click Through Rate is {performance_file['CTR'].max()}\")\n",
    "print(f\"The minimum Click Through Rate is {performance_file['CTR'].min()}\")"
   ]
  },
  {
   "cell_type": "code",
   "execution_count": 10,
   "metadata": {},
   "outputs": [],
   "source": [
    "CTR = performance_file['CTR']\n",
    "ER = performance_file['ER']"
   ]
  },
  {
   "cell_type": "code",
   "execution_count": 11,
   "metadata": {},
   "outputs": [
    {
     "name": "stdout",
     "output_type": "stream",
     "text": [
      "Correlation between ER and CTR: 0.45\n"
     ]
    }
   ],
   "source": [
    "correlation = ER.corr(CTR)\n",
    "print(f\"Correlation between ER and CTR: {correlation:.2f}\")"
   ]
  },
  {
   "cell_type": "code",
   "execution_count": 12,
   "metadata": {},
   "outputs": [
    {
     "data": {
      "image/png": "[encoded data removed]",
      "text/plain": [
       "<Figure size 800x600 with 1 Axes>"
      ]
     },
     "metadata": {},
     "output_type": "display_data"
    }
   ],
   "source": [
    "plt.figure(figsize=(8, 6))\n",
    "plt.scatter(ER, CTR)\n",
    "plt.xlabel('ER')\n",
    "plt.ylabel('CTR')\n",
    "plt.title('Correlation between ER and CTR (Scatter Plot)')\n",
    "plt.grid(True)\n",
    "plt.show()"
   ]
  },
  {
   "cell_type": "markdown",
   "metadata": {},
   "source": [
    "The top 100 ER and CTR"
   ]
  },
  {
   "cell_type": "code",
   "execution_count": 13,
   "metadata": {},
   "outputs": [],
   "source": [
    "#top 100 ads (ER and CTR scores)\n",
    "top_100_ER = performance_file.nlargest(100, 'ER')\n",
    "\n",
    "top_100_CTR = performance_file.nlargest(100, 'CTR')\n"
   ]
  },
  {
   "cell_type": "code",
   "execution_count": 14,
   "metadata": {},
   "outputs": [],
   "source": [
    "top_100_CTR_ID =  top_100_CTR['game_id'].tolist()\n",
    "top_100_ER_ID =  top_100_ER['game_id'].tolist()"
   ]
  },
  {
   "cell_type": "code",
   "execution_count": 15,
   "metadata": {},
   "outputs": [],
   "source": [
    "from collections import Counter\n",
    "\n",
    "counter1 = Counter(top_100_CTR_ID)\n",
    "counter2 = Counter(top_100_ER_ID)"
   ]
  },
  {
   "cell_type": "code",
   "execution_count": 16,
   "metadata": {},
   "outputs": [
    {
     "name": "stdout",
     "output_type": "stream",
     "text": [
      "['6befe54086758294b47addf0c12052a7', 'f033db746b20e747ee528caa07f0b2de', 'eb641577b39bf60665e3130ac0d4e301', '79a672060e901ce418230c3959619cca', '77af46ea55c251a18213104bd760d1d2', 'adunit-vodacom-ciot-curve-v1-mob', 'adunit-mouser-user-choice-flight4-canada-cpe-mob', 'c823124ca76c00a9d3b79380e5bdfd29', '6a3dbf08b82e45b3f3e79844f3a9aa18', 'adunit-mouser-user-choice-flight4-uk-cpe-mob', 'adunit-scotch-brite-scrub-dots-sponge-tap-thai-mob', 'df91c37d7078b8b406deaea243bb3746', 'adunit-mouser-user-choice-v3-uk-cpe-mob', '3ff8db0779a25d3a9b92aebfb0eebe69', '7db3a9c286b1a445845bad68ff95f2bb', '3ba7994ec2ea0b953b57457bd25ac857', '034c0fa142311896c1b1b6900487d2fb', '0383071848070b93a8a9f0c82c06e5e4', '3c5828449ad87b05b5dedf0b4787242a', '251daf76d78711e74c9b441f4bb62834', '097b04b65ad1608a869f2fb08909a612', '03231e84227b5038d1ce9c302019da8c', 'bb8342d60fc04fb8c4fcfdbc3025f4d9', 'adunit-vodacom-ciot-curve-mob', 'adunit-the-botanist-gin-mob', '6d72ce3e20781f20fb420b30d3dd8b0e', '65299151bf4cbd1825d28e4a43d113ac', 'e7b3f462f7d1cc8dcaa9c076eaedd1a8', 'b16e25c480f043e4be7d8e011bfa5e95', 'cd5de313101387fd9191cb03ef431ec9', '0978cddd7a740a70fa0ac73fb6603aee', '0a18978cdc8b64f900b0db6a297eb99d', 'bdc1911c958ee9f1d54097420bc0088d', '945010afbf9a55bbdffcb0895f946155', 'fae4bab75ff19f1246fb814deb4efd94']\n"
     ]
    }
   ],
   "source": [
    "common_values = [ID for ID, count in counter1.items() if counter2[ID] == count]\n",
    "print(common_values)"
   ]
  },
  {
   "cell_type": "code",
   "execution_count": 17,
   "metadata": {},
   "outputs": [
    {
     "data": {
      "text/plain": [
       "35"
      ]
     },
     "execution_count": 17,
     "metadata": {},
     "output_type": "execute_result"
    }
   ],
   "source": [
    "len(common_values)"
   ]
  }
 ],
 "metadata": {
  "kernelspec": {
   "display_name": ".venv",
   "language": "python",
   "name": "python3"
  },
  "language_info": {
   "codemirror_mode": {
    "name": "ipython",
    "version": 3
   },
   "file_extension": ".py",
   "mimetype": "text/x-python",
   "name": "python",
   "nbconvert_exporter": "python",
   "pygments_lexer": "ipython3",
   "version": "3.8.10"
  }
 },
 "nbformat": 4,
 "nbformat_minor": 2
}
