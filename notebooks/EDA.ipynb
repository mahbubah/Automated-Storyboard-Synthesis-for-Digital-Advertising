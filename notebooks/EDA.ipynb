{
 "cells": [
  {
   "cell_type": "code",
   "execution_count": 3,
   "metadata": {},
   "outputs": [],
   "source": [
    "import pandas as pd\n",
    "import numpy as np"
   ]
  },
  {
   "cell_type": "code",
   "execution_count": 4,
   "metadata": {},
   "outputs": [],
   "source": [
    "import sys\n",
    "# Add the current directory to the system path\n",
    "current = sys.path.append('.')"
   ]
  },
  {
   "cell_type": "code",
   "execution_count": 5,
   "metadata": {},
   "outputs": [],
   "source": [
    "data_path = '/home/mahbubah_abdulhakim/'"
   ]
  },
  {
   "cell_type": "code",
   "execution_count": 7,
   "metadata": {},
   "outputs": [],
   "source": [
    "performance_file = pd.read_csv(data_path+'Challenge_Data/performance_data.csv')"
   ]
  },
  {
   "cell_type": "code",
   "execution_count": 8,
   "metadata": {},
   "outputs": [
    {
     "data": {
      "text/html": [
       "<div>\n",
       "<style scoped>\n",
       "    .dataframe tbody tr th:only-of-type {\n",
       "        vertical-align: middle;\n",
       "    }\n",
       "\n",
       "    .dataframe tbody tr th {\n",
       "        vertical-align: top;\n",
       "    }\n",
       "\n",
       "    .dataframe thead th {\n",
       "        text-align: right;\n",
       "    }\n",
       "</style>\n",
       "<table border=\"1\" class=\"dataframe\">\n",
       "  <thead>\n",
       "    <tr style=\"text-align: right;\">\n",
       "      <th></th>\n",
       "      <th>game_id</th>\n",
       "      <th>preview_link</th>\n",
       "      <th>ER</th>\n",
       "      <th>CTR</th>\n",
       "    </tr>\n",
       "  </thead>\n",
       "  <tbody>\n",
       "    <tr>\n",
       "      <th>0</th>\n",
       "      <td>bfbf7a2b7ac635e67877b1ab87fd6629</td>\n",
       "      <td>https://s3.us-east-1.amazonaws.com/a.futureadl...</td>\n",
       "      <td>0.209269</td>\n",
       "      <td>0.058438</td>\n",
       "    </tr>\n",
       "    <tr>\n",
       "      <th>1</th>\n",
       "      <td>945010afbf9a55bbdffcb0895f946155</td>\n",
       "      <td>https://s3.us-east-1.amazonaws.com/a.futureadl...</td>\n",
       "      <td>0.274552</td>\n",
       "      <td>0.074731</td>\n",
       "    </tr>\n",
       "    <tr>\n",
       "      <th>2</th>\n",
       "      <td>e68e20f592457b875ce29757ab855dfe</td>\n",
       "      <td>https://s3.us-east-1.amazonaws.com/a.futureadl...</td>\n",
       "      <td>0.103688</td>\n",
       "      <td>0.042228</td>\n",
       "    </tr>\n",
       "    <tr>\n",
       "      <th>3</th>\n",
       "      <td>adunit-nestle-purina-friskies-mob</td>\n",
       "      <td>https://s3.ap-southeast-1.amazonaws.com/a.futu...</td>\n",
       "      <td>0.136963</td>\n",
       "      <td>0.005393</td>\n",
       "    </tr>\n",
       "    <tr>\n",
       "      <th>4</th>\n",
       "      <td>adunit-lionsgate-uwomt-user-slider-sensory-vid...</td>\n",
       "      <td>https://s3.us-west-1.amazonaws.com/a.futureadl...</td>\n",
       "      <td>0.114208</td>\n",
       "      <td>0.016443</td>\n",
       "    </tr>\n",
       "  </tbody>\n",
       "</table>\n",
       "</div>"
      ],
      "text/plain": [
       "                                             game_id  \\\n",
       "0                   bfbf7a2b7ac635e67877b1ab87fd6629   \n",
       "1                   945010afbf9a55bbdffcb0895f946155   \n",
       "2                   e68e20f592457b875ce29757ab855dfe   \n",
       "3                  adunit-nestle-purina-friskies-mob   \n",
       "4  adunit-lionsgate-uwomt-user-slider-sensory-vid...   \n",
       "\n",
       "                                        preview_link        ER       CTR  \n",
       "0  https://s3.us-east-1.amazonaws.com/a.futureadl...  0.209269  0.058438  \n",
       "1  https://s3.us-east-1.amazonaws.com/a.futureadl...  0.274552  0.074731  \n",
       "2  https://s3.us-east-1.amazonaws.com/a.futureadl...  0.103688  0.042228  \n",
       "3  https://s3.ap-southeast-1.amazonaws.com/a.futu...  0.136963  0.005393  \n",
       "4  https://s3.us-west-1.amazonaws.com/a.futureadl...  0.114208  0.016443  "
      ]
     },
     "execution_count": 8,
     "metadata": {},
     "output_type": "execute_result"
    }
   ],
   "source": [
    "performance_file.head()"
   ]
  },
  {
   "cell_type": "markdown",
   "metadata": {},
   "source": [
    "Click-Through Rate (CTR) measures the percentage of people who see your ad and then click on it. It's calculated by dividing the number of clicks your ad receives by the number of times it's shown (impressions). CTR = (Clicks / Impressions) * 100%\n",
    "\n",
    "Engagement Rate (ER) represents the projected average revenue earned from each user who installs your app through your ad campaign.Calculating ER can vary depending on the platform and available data. It often involves factors like in-app purchase data, subscription rates, and ad revenue models."
   ]
  },
  {
   "cell_type": "code",
   "execution_count": 9,
   "metadata": {},
   "outputs": [
    {
     "data": {
      "text/html": [
       "<div>\n",
       "<style scoped>\n",
       "    .dataframe tbody tr th:only-of-type {\n",
       "        vertical-align: middle;\n",
       "    }\n",
       "\n",
       "    .dataframe tbody tr th {\n",
       "        vertical-align: top;\n",
       "    }\n",
       "\n",
       "    .dataframe thead th {\n",
       "        text-align: right;\n",
       "    }\n",
       "</style>\n",
       "<table border=\"1\" class=\"dataframe\">\n",
       "  <thead>\n",
       "    <tr style=\"text-align: right;\">\n",
       "      <th></th>\n",
       "      <th>ER</th>\n",
       "      <th>CTR</th>\n",
       "    </tr>\n",
       "  </thead>\n",
       "  <tbody>\n",
       "    <tr>\n",
       "      <th>count</th>\n",
       "      <td>905.000000</td>\n",
       "      <td>905.000000</td>\n",
       "    </tr>\n",
       "    <tr>\n",
       "      <th>mean</th>\n",
       "      <td>0.136318</td>\n",
       "      <td>0.034466</td>\n",
       "    </tr>\n",
       "    <tr>\n",
       "      <th>std</th>\n",
       "      <td>0.091524</td>\n",
       "      <td>0.036967</td>\n",
       "    </tr>\n",
       "    <tr>\n",
       "      <th>min</th>\n",
       "      <td>0.000000</td>\n",
       "      <td>0.000000</td>\n",
       "    </tr>\n",
       "    <tr>\n",
       "      <th>25%</th>\n",
       "      <td>0.070338</td>\n",
       "      <td>0.007926</td>\n",
       "    </tr>\n",
       "    <tr>\n",
       "      <th>50%</th>\n",
       "      <td>0.118624</td>\n",
       "      <td>0.024537</td>\n",
       "    </tr>\n",
       "    <tr>\n",
       "      <th>75%</th>\n",
       "      <td>0.190722</td>\n",
       "      <td>0.047796</td>\n",
       "    </tr>\n",
       "    <tr>\n",
       "      <th>max</th>\n",
       "      <td>0.524498</td>\n",
       "      <td>0.297410</td>\n",
       "    </tr>\n",
       "  </tbody>\n",
       "</table>\n",
       "</div>"
      ],
      "text/plain": [
       "               ER         CTR\n",
       "count  905.000000  905.000000\n",
       "mean     0.136318    0.034466\n",
       "std      0.091524    0.036967\n",
       "min      0.000000    0.000000\n",
       "25%      0.070338    0.007926\n",
       "50%      0.118624    0.024537\n",
       "75%      0.190722    0.047796\n",
       "max      0.524498    0.297410"
      ]
     },
     "execution_count": 9,
     "metadata": {},
     "output_type": "execute_result"
    }
   ],
   "source": [
    "performance_file.describe()"
   ]
  },
  {
   "cell_type": "markdown",
   "metadata": {},
   "source": [
    "A higher ER suggests a more targeted and profitable ad campaign, attracting users likely to generate income for your app. A lower ER might indicate poor targeting, attracting users who don't convert into paying customers."
   ]
  },
  {
   "cell_type": "code",
   "execution_count": 13,
   "metadata": {},
   "outputs": [
    {
     "name": "stdout",
     "output_type": "stream",
     "text": [
      "The maximum Engagement Rate is 0.5244978411864089\n",
      "The minimum Engagement Rate is 0.0\n"
     ]
    }
   ],
   "source": [
    "print(f\"The maximum Engagement Rate is {performance_file['ER'].max()}\")\n",
    "print(f\"The minimum Engagement Rate is {performance_file['ER'].min()}\")"
   ]
  },
  {
   "cell_type": "markdown",
   "metadata": {},
   "source": [
    "A higher CTR indicates a more engaging and relevant ad that effectively captures user attention and prompts them to take further action. A low CTR signifies an ad that might be poorly targeted, irrelevant, or visually unappealing."
   ]
  },
  {
   "cell_type": "code",
   "execution_count": 14,
   "metadata": {},
   "outputs": [
    {
     "name": "stdout",
     "output_type": "stream",
     "text": [
      "The maximum Click Through Rate is 0.2974101921470342\n",
      "The minimum Click Through Rate is 0.0\n"
     ]
    }
   ],
   "source": [
    "print(f\"The maximum Click Through Rate is {performance_file['CTR'].max()}\")\n",
    "print(f\"The minimum Click Through Rate is {performance_file['CTR'].min()}\")"
   ]
  }
 ],
 "metadata": {
  "kernelspec": {
   "display_name": ".venv",
   "language": "python",
   "name": "python3"
  },
  "language_info": {
   "codemirror_mode": {
    "name": "ipython",
    "version": 3
   },
   "file_extension": ".py",
   "mimetype": "text/x-python",
   "name": "python",
   "nbconvert_exporter": "python",
   "pygments_lexer": "ipython3",
   "version": "3.8.10"
  }
 },
 "nbformat": 4,
 "nbformat_minor": 2
}
