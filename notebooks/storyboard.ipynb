{
 "cells": [
  {
   "cell_type": "code",
   "execution_count": 4,
   "metadata": {},
   "outputs": [],
   "source": [
    "from PIL import Image, ImageDraw, ImageFont"
   ]
  },
  {
   "cell_type": "code",
   "execution_count": 5,
   "metadata": {},
   "outputs": [],
   "source": [
    "# Function to compose images with labels\n",
    "def compose_storyboard(images, labels, output_path):\n",
    "    # Determine the dimensions of the storyboard based on number of images\n",
    "    num_images = len(images)\n",
    "    if num_images == 0:\n",
    "        print(\"No images provided.\")\n",
    "        return\n",
    "    \n",
    "    # Assuming images are of equal size, get dimensions of each image\n",
    "    image_width, image_height = images[0].size\n",
    "    \n",
    "    # Calculate total storyboard dimensions (for a basic linear storyboard)\n",
    "    storyboard_width = image_width * num_images\n",
    "    storyboard_height = image_height + 50  # additional space for labels\n",
    "    \n",
    "    # Create a new blank image for the storyboard\n",
    "    storyboard = Image.new('RGB', (storyboard_width, storyboard_height), (255, 255, 255))\n",
    "    \n",
    "    # Paste each image onto the storyboard\n",
    "    draw = ImageDraw.Draw(storyboard)\n",
    "    font = ImageFont.truetype(\"/usr/share/fonts/truetype/dejavu/DejaVuSans-Bold.ttf\", 20)\n",
    "    x_offset = 0\n",
    "    \n",
    "    for i, img in enumerate(images):\n",
    "        storyboard.paste(img, (x_offset, 0))\n",
    "        # Draw label below each image\n",
    "        label = labels[i]\n",
    "        draw.text((x_offset + 10, image_height + 10), label, font=font, fill=(0, 0, 0))\n",
    "        x_offset += image_width\n",
    "    \n",
    "    # Save the storyboard\n",
    "    storyboard.save(output_path)\n",
    "    print(f\"Storyboard saved: {output_path}\")\n"
   ]
  },
  {
   "cell_type": "code",
   "execution_count": 6,
   "metadata": {},
   "outputs": [
    {
     "name": "stdout",
     "output_type": "stream",
     "text": [
      "Storyboard saved: storyboard2.jpg\n"
     ]
    }
   ],
   "source": [
    "# Example usage\n",
    "if __name__ == \"__main__\":\n",
    "    # Example images (replace with your own image paths)\n",
    "    image_paths = [\n",
    "        \"composed_image2.png\",\n",
    "        \"composed_image1.png\",\n",
    "        \"../8968a702d64524827de2ccf55c802d6c/end-allentown.png\",\n",
    "    ]\n",
    "    \n",
    "    # Load images\n",
    "    images = [Image.open(img_path) for img_path in image_paths]\n",
    "    \n",
    "    # Example labels (replace with your own labels)\n",
    "    labels = [\n",
    "        \"Scene 1: preview\",\n",
    "        \"Scene 2: landing_1\",\n",
    "        \"Scene 3: landing_2\",\n",
    "    ]\n",
    "    \n",
    "    # Output path for the storyboard\n",
    "    output_path = \"storyboard2.jpg\"\n",
    "    \n",
    "    # Create and save the storyboard\n",
    "    compose_storyboard(images, labels, output_path)"
   ]
  }
 ],
 "metadata": {
  "kernelspec": {
   "display_name": ".venv",
   "language": "python",
   "name": "python3"
  },
  "language_info": {
   "codemirror_mode": {
    "name": "ipython",
    "version": 3
   },
   "file_extension": ".py",
   "mimetype": "text/x-python",
   "name": "python",
   "nbconvert_exporter": "python",
   "pygments_lexer": "ipython3",
   "version": "3.12.3"
  }
 },
 "nbformat": 4,
 "nbformat_minor": 2
}
