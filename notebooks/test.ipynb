{
 "cells": [
  {
   "cell_type": "code",
   "execution_count": 1,
   "metadata": {},
   "outputs": [],
   "source": [
    "from PIL import Image, ImageDraw, ImageFont"
   ]
  },
  {
   "cell_type": "code",
   "execution_count": 2,
   "metadata": {},
   "outputs": [],
   "source": [
    "# Function to compose images with labels\n",
    "def compose_storyboard(images, labels, output_path):\n",
    "    # Determine the dimensions of the storyboard based on number of images\n",
    "    num_images = len(images)\n",
    "    if num_images == 0:\n",
    "        print(\"No images provided.\")\n",
    "        return\n",
    "    \n",
    "    # Assuming images are of equal size, get dimensions of each image\n",
    "    image_width, image_height = images[0].size\n",
    "    \n",
    "    # Calculate total storyboard dimensions (for a basic linear storyboard)\n",
    "    storyboard_width = image_width * num_images\n",
    "    storyboard_height = image_height + 50  # additional space for labels\n",
    "    \n",
    "    # Create a new blank image for the storyboard\n",
    "    storyboard = Image.new('RGB', (storyboard_width, storyboard_height), (255, 255, 255))\n",
    "    \n",
    "    # Paste each image onto the storyboard\n",
    "    draw = ImageDraw.Draw(storyboard)\n",
    "    font = ImageFont.truetype(\"arial.ttf\", 20)\n",
    "    x_offset = 0\n",
    "    \n",
    "    for i, img in enumerate(images):\n",
    "        storyboard.paste(img, (x_offset, 0))\n",
    "        # Draw label below each image\n",
    "        label = labels[i]\n",
    "        draw.text((x_offset + 10, image_height + 10), label, font=font, fill=(0, 0, 0))\n",
    "        x_offset += image_width\n",
    "    \n",
    "    # Save the storyboard\n",
    "    storyboard.save(output_path)\n",
    "    print(f\"Storyboard saved: {output_path}\")\n"
   ]
  },
  {
   "cell_type": "code",
   "execution_count": 5,
   "metadata": {},
   "outputs": [
    {
     "ename": "FileNotFoundError",
     "evalue": "[Errno 2] No such file or directory: '/home/mahbubah_abdulhakim/week12/Automated-Storyboard-Synthesis-for-Digital-Advertising/notebooks/8968a702d64524827de2ccf55c802d6c/_preview.png'",
     "output_type": "error",
     "traceback": [
      "\u001b[0;31m---------------------------------------------------------------------------\u001b[0m",
      "\u001b[0;31mFileNotFoundError\u001b[0m                         Traceback (most recent call last)",
      "Cell \u001b[0;32mIn[5], line 24\u001b[0m\n\u001b[1;32m      4\u001b[0m image_paths \u001b[38;5;241m=\u001b[39m [\n\u001b[1;32m      5\u001b[0m     \u001b[38;5;124m\"\u001b[39m\u001b[38;5;124m8968a702d64524827de2ccf55c802d6c/_preview.png\u001b[39m\u001b[38;5;124m\"\u001b[39m,\n\u001b[1;32m      6\u001b[0m     \u001b[38;5;124m\"\u001b[39m\u001b[38;5;124m8968a702d64524827de2ccf55c802d6c/advertised_item.png\u001b[39m\u001b[38;5;124m\"\u001b[39m,\n\u001b[0;32m   (...)\u001b[0m\n\u001b[1;32m     20\u001b[0m     \u001b[38;5;66;03m# Add more images as needed\u001b[39;00m\n\u001b[1;32m     21\u001b[0m ]\n\u001b[1;32m     23\u001b[0m \u001b[38;5;66;03m# Load images\u001b[39;00m\n\u001b[0;32m---> 24\u001b[0m images \u001b[38;5;241m=\u001b[39m [Image\u001b[38;5;241m.\u001b[39mopen(img_path) \u001b[38;5;28;01mfor\u001b[39;00m img_path \u001b[38;5;129;01min\u001b[39;00m image_paths]\n\u001b[1;32m     26\u001b[0m \u001b[38;5;66;03m# Example labels (replace with your own labels)\u001b[39;00m\n\u001b[1;32m     27\u001b[0m labels \u001b[38;5;241m=\u001b[39m [\n\u001b[1;32m     28\u001b[0m     \u001b[38;5;124m\"\u001b[39m\u001b[38;5;124mScene 1: preview\u001b[39m\u001b[38;5;124m\"\u001b[39m,\n\u001b[1;32m     29\u001b[0m     \u001b[38;5;124m\"\u001b[39m\u001b[38;5;124mScene 2: advertised_item\u001b[39m\u001b[38;5;124m\"\u001b[39m,\n\u001b[0;32m   (...)\u001b[0m\n\u001b[1;32m     37\u001b[0m     \u001b[38;5;66;03m# Add more labels as needed\u001b[39;00m\n\u001b[1;32m     38\u001b[0m ]\n",
      "Cell \u001b[0;32mIn[5], line 24\u001b[0m, in \u001b[0;36m<listcomp>\u001b[0;34m(.0)\u001b[0m\n\u001b[1;32m      4\u001b[0m image_paths \u001b[38;5;241m=\u001b[39m [\n\u001b[1;32m      5\u001b[0m     \u001b[38;5;124m\"\u001b[39m\u001b[38;5;124m8968a702d64524827de2ccf55c802d6c/_preview.png\u001b[39m\u001b[38;5;124m\"\u001b[39m,\n\u001b[1;32m      6\u001b[0m     \u001b[38;5;124m\"\u001b[39m\u001b[38;5;124m8968a702d64524827de2ccf55c802d6c/advertised_item.png\u001b[39m\u001b[38;5;124m\"\u001b[39m,\n\u001b[0;32m   (...)\u001b[0m\n\u001b[1;32m     20\u001b[0m     \u001b[38;5;66;03m# Add more images as needed\u001b[39;00m\n\u001b[1;32m     21\u001b[0m ]\n\u001b[1;32m     23\u001b[0m \u001b[38;5;66;03m# Load images\u001b[39;00m\n\u001b[0;32m---> 24\u001b[0m images \u001b[38;5;241m=\u001b[39m [\u001b[43mImage\u001b[49m\u001b[38;5;241;43m.\u001b[39;49m\u001b[43mopen\u001b[49m\u001b[43m(\u001b[49m\u001b[43mimg_path\u001b[49m\u001b[43m)\u001b[49m \u001b[38;5;28;01mfor\u001b[39;00m img_path \u001b[38;5;129;01min\u001b[39;00m image_paths]\n\u001b[1;32m     26\u001b[0m \u001b[38;5;66;03m# Example labels (replace with your own labels)\u001b[39;00m\n\u001b[1;32m     27\u001b[0m labels \u001b[38;5;241m=\u001b[39m [\n\u001b[1;32m     28\u001b[0m     \u001b[38;5;124m\"\u001b[39m\u001b[38;5;124mScene 1: preview\u001b[39m\u001b[38;5;124m\"\u001b[39m,\n\u001b[1;32m     29\u001b[0m     \u001b[38;5;124m\"\u001b[39m\u001b[38;5;124mScene 2: advertised_item\u001b[39m\u001b[38;5;124m\"\u001b[39m,\n\u001b[0;32m   (...)\u001b[0m\n\u001b[1;32m     37\u001b[0m     \u001b[38;5;66;03m# Add more labels as needed\u001b[39;00m\n\u001b[1;32m     38\u001b[0m ]\n",
      "File \u001b[0;32m~/week12/Automated-Storyboard-Synthesis-for-Digital-Advertising/.venv/lib/python3.8/site-packages/PIL/Image.py:3431\u001b[0m, in \u001b[0;36mopen\u001b[0;34m(fp, mode, formats)\u001b[0m\n\u001b[1;32m   3428\u001b[0m     filename \u001b[38;5;241m=\u001b[39m os\u001b[38;5;241m.\u001b[39mpath\u001b[38;5;241m.\u001b[39mrealpath(os\u001b[38;5;241m.\u001b[39mfspath(fp))\n\u001b[1;32m   3430\u001b[0m \u001b[38;5;28;01mif\u001b[39;00m filename:\n\u001b[0;32m-> 3431\u001b[0m     fp \u001b[38;5;241m=\u001b[39m \u001b[43mbuiltins\u001b[49m\u001b[38;5;241;43m.\u001b[39;49m\u001b[43mopen\u001b[49m\u001b[43m(\u001b[49m\u001b[43mfilename\u001b[49m\u001b[43m,\u001b[49m\u001b[43m \u001b[49m\u001b[38;5;124;43m\"\u001b[39;49m\u001b[38;5;124;43mrb\u001b[39;49m\u001b[38;5;124;43m\"\u001b[39;49m\u001b[43m)\u001b[49m\n\u001b[1;32m   3432\u001b[0m     exclusive_fp \u001b[38;5;241m=\u001b[39m \u001b[38;5;28;01mTrue\u001b[39;00m\n\u001b[1;32m   3433\u001b[0m \u001b[38;5;28;01melse\u001b[39;00m:\n",
      "\u001b[0;31mFileNotFoundError\u001b[0m: [Errno 2] No such file or directory: '/home/mahbubah_abdulhakim/week12/Automated-Storyboard-Synthesis-for-Digital-Advertising/notebooks/8968a702d64524827de2ccf55c802d6c/_preview.png'"
     ]
    }
   ],
   "source": [
    "# Example usage\n",
    "if __name__ == \"__main__\":\n",
    "    # Example images (replace with your own image paths)\n",
    "    image_paths = [\n",
    "        \"8968a702d64524827de2ccf55c802d6c/_preview.png\",\n",
    "        \"8968a702d64524827de2ccf55c802d6c/advertised_item.png\",\n",
    "        \"8968a702d64524827de2ccf55c802d6c/end-allentown.png\",\n",
    "        \"8968a702d64524827de2ccf55c802d6c/end-bg.jpg\",\n",
    "        \"8968a702d64524827de2ccf55c802d6c/end-cta.png\",\n",
    "        \"8968a702d64524827de2ccf55c802d6c/end-willowgrove.png\",\n",
    "        \"8968a702d64524827de2ccf55c802d6c/engagement_animation.png\",\n",
    "        \"8968a702d64524827de2ccf55c802d6c/engagement_instruction.png\",\n",
    "        \"8968a702d64524827de2ccf55c802d6c/fr-2-copy-ny.png\",\n",
    "        \"8968a702d64524827de2ccf55c802d6c/fr-2-copy.png\",\n",
    "        \"8968a702d64524827de2ccf55c802d6c/landing_1.png\",\n",
    "        \"8968a702d64524827de2ccf55c802d6c/landing_2.png\",\n",
    "        \"8968a702d64524827de2ccf55c802d6c/MPU-click-area.png\",\n",
    "        \"8968a702d64524827de2ccf55c802d6c/thumbnail.png\",\n",
    "        #\"8968a702d64524827de2ccf55c802d6c\",\n",
    "        # Add more images as needed\n",
    "    ]\n",
    "    \n",
    "    # Load images\n",
    "    images = [Image.open(img_path) for img_path in image_paths]\n",
    "    \n",
    "    # Example labels (replace with your own labels)\n",
    "    labels = [\n",
    "        \"Scene 1: preview\",\n",
    "        \"Scene 2: advertised_item\",\n",
    "        \"Scene 3: end-allentown\",\n",
    "        \"Scene 4: end-bg\",\n",
    "        \"Scene 5: end-cta\",\n",
    "        \"Scene 6: end-willowgrove\",\n",
    "        \"Scene 7: engagement_animation\",\n",
    "        \"Scene 8: engagement_instruction\",\n",
    "        \"Scene 9: fr-2-copy-ny\",\n",
    "        \"Scene 10: fr-2-copy\",\n",
    "        \"Scene 11: landing_1\",\n",
    "        \"Scene 12: landing_2\",\n",
    "        \"Scene 13: MPU-click-area\",\n",
    "        \"Scene 14: thumbnail\",\n",
    "        #\"Scene 15: end-allentown\",\n",
    "        # Add more labels as needed\n",
    "    ]\n",
    "    \n",
    "    # Output path for the storyboard\n",
    "    output_path = \"storyboard.jpg\"\n",
    "    \n",
    "    # Create and save the storyboard\n",
    "    compose_storyboard(images, labels, output_path)"
   ]
  }
 ],
 "metadata": {
  "kernelspec": {
   "display_name": ".venv",
   "language": "python",
   "name": "python3"
  },
  "language_info": {
   "codemirror_mode": {
    "name": "ipython",
    "version": 3
   },
   "file_extension": ".py",
   "mimetype": "text/x-python",
   "name": "python",
   "nbconvert_exporter": "python",
   "pygments_lexer": "ipython3",
   "version": "3.8.10"
  }
 },
 "nbformat": 4,
 "nbformat_minor": 2
}
